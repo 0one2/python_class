{
 "cells": [
  {
   "cell_type": "code",
   "execution_count": 1,
   "metadata": {},
   "outputs": [],
   "source": [
    "import numpy as np\n",
    "import pandas as pd\n",
    "import matplotlib.pyplot as plt\n",
    "import seaborn as sns\n",
    "import warnings\n",
    "warnings.filterwarnings( 'ignore' )"
   ]
  },
  {
   "cell_type": "code",
   "execution_count": 2,
   "metadata": {},
   "outputs": [],
   "source": [
    "data = pd.read_csv(\"heart.csv\")"
   ]
  },
  {
   "cell_type": "code",
   "execution_count": 3,
   "metadata": {},
   "outputs": [
    {
     "name": "stdout",
     "output_type": "stream",
     "text": [
      "<class 'pandas.core.frame.DataFrame'>\n",
      "RangeIndex: 303 entries, 0 to 302\n",
      "Data columns (total 14 columns):\n",
      " #   Column    Non-Null Count  Dtype  \n",
      "---  ------    --------------  -----  \n",
      " 0   age       303 non-null    int64  \n",
      " 1   sex       303 non-null    int64  \n",
      " 2   cp        303 non-null    int64  \n",
      " 3   trestbps  303 non-null    int64  \n",
      " 4   chol      303 non-null    int64  \n",
      " 5   fbs       303 non-null    int64  \n",
      " 6   restecg   303 non-null    int64  \n",
      " 7   thalach   303 non-null    int64  \n",
      " 8   exang     303 non-null    int64  \n",
      " 9   oldpeak   303 non-null    float64\n",
      " 10  slope     303 non-null    int64  \n",
      " 11  ca        303 non-null    int64  \n",
      " 12  thal      303 non-null    int64  \n",
      " 13  target    303 non-null    int64  \n",
      "dtypes: float64(1), int64(13)\n",
      "memory usage: 33.3 KB\n"
     ]
    }
   ],
   "source": [
    "data.info()"
   ]
  },
  {
   "cell_type": "code",
   "execution_count": 4,
   "metadata": {},
   "outputs": [
    {
     "data": {
      "text/plain": [
       "age          41\n",
       "sex           2\n",
       "cp            4\n",
       "trestbps     49\n",
       "chol        152\n",
       "fbs           2\n",
       "restecg       3\n",
       "thalach      91\n",
       "exang         2\n",
       "oldpeak      40\n",
       "slope         3\n",
       "ca            5\n",
       "thal          4\n",
       "target        2\n",
       "dtype: int64"
      ]
     },
     "execution_count": 4,
     "metadata": {},
     "output_type": "execute_result"
    }
   ],
   "source": [
    "data.nunique()"
   ]
  },
  {
   "cell_type": "code",
   "execution_count": 5,
   "metadata": {},
   "outputs": [],
   "source": [
    "from sklearn.preprocessing import StandardScaler"
   ]
  },
  {
   "cell_type": "code",
   "execution_count": 6,
   "metadata": {},
   "outputs": [],
   "source": [
    "sc = StandardScaler()\n",
    "data.iloc[:,:-1] = sc.fit_transform(data.iloc[:,:-1])"
   ]
  },
  {
   "cell_type": "code",
   "execution_count": 7,
   "metadata": {},
   "outputs": [],
   "source": [
    "from sklearn.model_selection import train_test_split\n",
    "\n",
    "train, test = train_test_split(data, test_size=0.3, random_state=42)"
   ]
  },
  {
   "cell_type": "code",
   "execution_count": 8,
   "metadata": {},
   "outputs": [],
   "source": [
    "x_train, y_train = train.drop('target',1), train['target']\n",
    "x_test, y_test = test.drop('target',1), test['target']"
   ]
  },
  {
   "cell_type": "code",
   "execution_count": 9,
   "metadata": {},
   "outputs": [],
   "source": [
    "from sklearn.linear_model import LogisticRegression\n",
    "\n",
    "lr = LogisticRegression()"
   ]
  },
  {
   "cell_type": "code",
   "execution_count": 10,
   "metadata": {},
   "outputs": [
    {
     "data": {
      "text/plain": [
       "LogisticRegression()"
      ]
     },
     "execution_count": 10,
     "metadata": {},
     "output_type": "execute_result"
    }
   ],
   "source": [
    "lr.fit(x_train,y_train)"
   ]
  },
  {
   "cell_type": "code",
   "execution_count": 11,
   "metadata": {},
   "outputs": [
    {
     "data": {
      "text/plain": [
       "['age',\n",
       " 'sex',\n",
       " 'cp',\n",
       " 'trestbps',\n",
       " 'chol',\n",
       " 'fbs',\n",
       " 'restecg',\n",
       " 'thalach',\n",
       " 'exang',\n",
       " 'oldpeak',\n",
       " 'slope',\n",
       " 'ca',\n",
       " 'thal']"
      ]
     },
     "execution_count": 11,
     "metadata": {},
     "output_type": "execute_result"
    }
   ],
   "source": [
    "loan_col=[]\n",
    "for i in data.columns:\n",
    "    loan_col.append(i)\n",
    "\n",
    "loan_col.remove('target')\n",
    "loan_col"
   ]
  },
  {
   "cell_type": "code",
   "execution_count": 12,
   "metadata": {},
   "outputs": [
    {
     "data": {
      "text/html": [
       "<div>\n",
       "<style scoped>\n",
       "    .dataframe tbody tr th:only-of-type {\n",
       "        vertical-align: middle;\n",
       "    }\n",
       "\n",
       "    .dataframe tbody tr th {\n",
       "        vertical-align: top;\n",
       "    }\n",
       "\n",
       "    .dataframe thead th {\n",
       "        text-align: right;\n",
       "    }\n",
       "</style>\n",
       "<table border=\"1\" class=\"dataframe\">\n",
       "  <thead>\n",
       "    <tr style=\"text-align: right;\">\n",
       "      <th></th>\n",
       "      <th>beta</th>\n",
       "      <th>exp(beta)</th>\n",
       "      <th>interpret</th>\n",
       "    </tr>\n",
       "  </thead>\n",
       "  <tbody>\n",
       "    <tr>\n",
       "      <th>const</th>\n",
       "      <td>-0.07</td>\n",
       "      <td>0.93</td>\n",
       "      <td>protective</td>\n",
       "    </tr>\n",
       "    <tr>\n",
       "      <th>age</th>\n",
       "      <td>0.03</td>\n",
       "      <td>1.03</td>\n",
       "      <td>risky</td>\n",
       "    </tr>\n",
       "    <tr>\n",
       "      <th>sex</th>\n",
       "      <td>-0.65</td>\n",
       "      <td>0.52</td>\n",
       "      <td>protective</td>\n",
       "    </tr>\n",
       "    <tr>\n",
       "      <th>cp</th>\n",
       "      <td>0.83</td>\n",
       "      <td>2.29</td>\n",
       "      <td>risky</td>\n",
       "    </tr>\n",
       "    <tr>\n",
       "      <th>trestbps</th>\n",
       "      <td>-0.15</td>\n",
       "      <td>0.86</td>\n",
       "      <td>protective</td>\n",
       "    </tr>\n",
       "    <tr>\n",
       "      <th>chol</th>\n",
       "      <td>-0.12</td>\n",
       "      <td>0.89</td>\n",
       "      <td>protective</td>\n",
       "    </tr>\n",
       "    <tr>\n",
       "      <th>fbs</th>\n",
       "      <td>0.21</td>\n",
       "      <td>1.23</td>\n",
       "      <td>risky</td>\n",
       "    </tr>\n",
       "    <tr>\n",
       "      <th>restecg</th>\n",
       "      <td>0.38</td>\n",
       "      <td>1.46</td>\n",
       "      <td>risky</td>\n",
       "    </tr>\n",
       "    <tr>\n",
       "      <th>thalach</th>\n",
       "      <td>0.37</td>\n",
       "      <td>1.45</td>\n",
       "      <td>risky</td>\n",
       "    </tr>\n",
       "    <tr>\n",
       "      <th>exang</th>\n",
       "      <td>-0.59</td>\n",
       "      <td>0.55</td>\n",
       "      <td>protective</td>\n",
       "    </tr>\n",
       "    <tr>\n",
       "      <th>oldpeak</th>\n",
       "      <td>-0.53</td>\n",
       "      <td>0.59</td>\n",
       "      <td>protective</td>\n",
       "    </tr>\n",
       "    <tr>\n",
       "      <th>slope</th>\n",
       "      <td>0.57</td>\n",
       "      <td>1.77</td>\n",
       "      <td>risky</td>\n",
       "    </tr>\n",
       "    <tr>\n",
       "      <th>ca</th>\n",
       "      <td>-1.1</td>\n",
       "      <td>0.33</td>\n",
       "      <td>protective</td>\n",
       "    </tr>\n",
       "    <tr>\n",
       "      <th>thal</th>\n",
       "      <td>-0.76</td>\n",
       "      <td>0.47</td>\n",
       "      <td>protective</td>\n",
       "    </tr>\n",
       "  </tbody>\n",
       "</table>\n",
       "</div>"
      ],
      "text/plain": [
       "           beta exp(beta)   interpret\n",
       "const     -0.07      0.93  protective\n",
       "age        0.03      1.03       risky\n",
       "sex       -0.65      0.52  protective\n",
       "cp         0.83      2.29       risky\n",
       "trestbps  -0.15      0.86  protective\n",
       "chol      -0.12      0.89  protective\n",
       "fbs        0.21      1.23       risky\n",
       "restecg    0.38      1.46       risky\n",
       "thalach    0.37      1.45       risky\n",
       "exang     -0.59      0.55  protective\n",
       "oldpeak   -0.53      0.59  protective\n",
       "slope      0.57      1.77       risky\n",
       "ca         -1.1      0.33  protective\n",
       "thal      -0.76      0.47  protective"
      ]
     },
     "execution_count": 12,
     "metadata": {},
     "output_type": "execute_result"
    }
   ],
   "source": [
    "# 데이터 컬럼에 따른 beta, exp(beta) 체크\n",
    "column_name = [\"const\"] + loan_col\n",
    "beta = np.concatenate([lr.intercept_,lr.coef_.reshape(-1)]).round(2) # round(2) 소수점 둘째짜리까지 반올림\n",
    "odds = np.exp(beta).round(2) # round(2) 소수점 둘째짜리까지 반올림\n",
    "interpret = np.where(beta>0,'risky','protective') # np.where() 조건문 \n",
    "\n",
    "# beta 해석 정리\n",
    "beta_analysis = pd.DataFrame(np.c_[beta,odds,interpret],index=column_name,columns=['beta','exp(beta)','interpret'])\n",
    "beta_analysis"
   ]
  },
  {
   "cell_type": "code",
   "execution_count": 13,
   "metadata": {},
   "outputs": [
    {
     "data": {
      "text/plain": [
       "Index(['const', 'sex', 'trestbps', 'chol', 'exang', 'oldpeak', 'ca', 'thal'], dtype='object')"
      ]
     },
     "execution_count": 13,
     "metadata": {},
     "output_type": "execute_result"
    }
   ],
   "source": [
    "beta_analysis.loc[beta_analysis.interpret=='protective'].index"
   ]
  },
  {
   "cell_type": "code",
   "execution_count": 14,
   "metadata": {},
   "outputs": [
    {
     "data": {
      "text/plain": [
       "Index(['age', 'cp', 'fbs', 'restecg', 'thalach', 'slope'], dtype='object')"
      ]
     },
     "execution_count": 14,
     "metadata": {},
     "output_type": "execute_result"
    }
   ],
   "source": [
    "beta_analysis.loc[beta_analysis.interpret!='protective'].index"
   ]
  },
  {
   "cell_type": "code",
   "execution_count": 15,
   "metadata": {},
   "outputs": [],
   "source": [
    "y_pred = lr.predict_proba(x_test)\n",
    "predict_prob = pd.DataFrame(lr.predict_proba(x_test),columns=['P(Y=0)','P(Y=1)'])\n",
    "P_1 = predict_prob['P(Y=1)']"
   ]
  },
  {
   "cell_type": "code",
   "execution_count": 16,
   "metadata": {},
   "outputs": [
    {
     "name": "stdout",
     "output_type": "stream",
     "text": [
      "Accuracy:0.55  |  Recall:1.00  |  Precision:0.55  |  cut off:0.00\n",
      "Accuracy:0.81  |  Recall:0.92  |  Precision:0.78  |  cut off:0.10\n",
      "Accuracy:0.85  |  Recall:0.92  |  Precision:0.82  |  cut off:0.20\n",
      "Accuracy:0.85  |  Recall:0.90  |  Precision:0.83  |  cut off:0.30\n",
      "Accuracy:0.81  |  Recall:0.84  |  Precision:0.82  |  cut off:0.40\n",
      "Accuracy:0.81  |  Recall:0.84  |  Precision:0.82  |  cut off:0.50\n",
      "Accuracy:0.80  |  Recall:0.80  |  Precision:0.83  |  cut off:0.60\n",
      "Accuracy:0.80  |  Recall:0.72  |  Precision:0.90  |  cut off:0.70\n",
      "Accuracy:0.71  |  Recall:0.56  |  Precision:0.88  |  cut off:0.80\n",
      "Accuracy:0.62  |  Recall:0.36  |  Precision:0.86  |  cut off:0.90\n",
      "Accuracy:0.45  |  Recall:0.00  |  Precision:0.00  |  cut off:1.00\n"
     ]
    }
   ],
   "source": [
    "#성능 평가하기\n",
    "#Cut off 값을 변화하면서 Accuracy 성능 관찰\n",
    "from sklearn.metrics import roc_curve, accuracy_score, confusion_matrix, recall_score, precision_score\n",
    "Cut_off = np.linspace(0,1,11) ## cut off 값 여러개 만들어두기\n",
    "for cutoff in Cut_off:\n",
    "    y_pred = np.where(P_1>=cutoff,1,0) # 확률값이 cuf off보다 크면 1(대출연체), 아니면 0(연체x)\n",
    "    acc = accuracy_score(y_true = y_test, y_pred =y_pred) ## 정확도\n",
    "    recall = recall_score(y_true = y_test, y_pred =y_pred) ## 민감도\n",
    "    precision = precision_score(y_true = y_test, y_pred =y_pred) ## 정밀도\n",
    "    \n",
    "#     print('Testing MSE: {:.3f}'.format(mean_squared_error(y_test, y_pred)))\n",
    "#     print('Testing RMSE: {:.3f}'.format(np.sqrt(mean_squared_error(y_test, y_pred))))\n",
    "#     print('Testing MAE: {:.3f}'.format(mean_absolute_error(y_test, y_pred)))\n",
    "#     print('Testing R2: {:.3f}'.format(r2_score(y_test, y_pred)))\n",
    "    print(f\"Accuracy:{acc:0.2f}\",f\"Recall:{recall:0.2f}\",f\"Precision:{precision:0.2f}\", f\"cut off:{cutoff:0.2f}\",sep='  |  ') "
   ]
  },
  {
   "cell_type": "code",
   "execution_count": 19,
   "metadata": {
    "scrolled": false
   },
   "outputs": [
    {
     "data": {
      "image/png": "[encoded data removed]",
      "text/plain": [
       "<Figure size 720x720 with 1 Axes>"
      ]
     },
     "metadata": {
      "needs_background": "light"
     },
     "output_type": "display_data"
    }
   ],
   "source": [
    "# X_test에 대한 P(Y=1) 예측 확률값 - 패키지 이용\n",
    "probs = lr.predict_proba(x_test)[:, 1] ## [:,1]은 두번째 컬럼을 indexing 한다는 뜻\n",
    " \n",
    "# Roc curve X 축, Y축 추출\n",
    "model_fpr, model_tpr, threshold1 = roc_curve(y_test, probs)\n",
    "random_fpr, random_tpr, threshold2 = roc_curve(y_test, [0 for i in range(x_test.__len__())])\n",
    "\n",
    "# plot the roc curve for the model and random\n",
    "plt.figure(figsize=(10,10))\n",
    "plt.plot(model_fpr, model_tpr, marker='.', label='Logistic')\n",
    "plt.plot(random_fpr, random_tpr, linestyle='--', label='Random')\n",
    "\n",
    "# axis labels\n",
    "plt.xlabel('False Positive Rate')\n",
    "plt.ylabel('True Positive Rate')\n",
    " \n",
    "# # show the legend\n",
    "# plt.legend(fontsize=20)\n",
    " \n",
    "# show the plot\n",
    "plt.title(\"ROC curve\")\n",
    "plt.show()"
   ]
  },
  {
   "cell_type": "code",
   "execution_count": null,
   "metadata": {},
   "outputs": [],
   "source": []
  }
 ],
 "metadata": {
  "kernelspec": {
   "display_name": "Python 3",
   "language": "python",
   "name": "python3"
  },
  "language_info": {
   "codemirror_mode": {
    "name": "ipython",
    "version": 3
   },
   "file_extension": ".py",
   "mimetype": "text/x-python",
   "name": "python",
   "nbconvert_exporter": "python",
   "pygments_lexer": "ipython3",
   "version": "3.8.5"
  }
 },
 "nbformat": 4,
 "nbformat_minor": 4
}
